{
 "cells": [
  {
   "cell_type": "code",
   "execution_count": 1,
   "metadata": {},
   "outputs": [],
   "source": [
    "from sklearn.ensemble import RandomForestClassifier, ExtraTreesClassifier\n",
    "from sklearn.neighbors import KNeighborsClassifier\n",
    "from sklearn.linear_model import LogisticRegression\n",
    "from sklearn.model_selection import StratifiedKFold, train_test_split\n",
    "from sklearn.metrics import accuracy_score,precision_score, recall_score, roc_auc_score, f1_score, confusion_matrix\n",
    "from sklearn.utils import shuffle\n",
    "import xgboost as xgb\n",
    "import matplotlib.pyplot as plt\n",
    "import seaborn as sns\n",
    "from datetime import datetime\n",
    "from matplotlib.colors import LinearSegmentedColormap"
   ]
  },
  {
   "cell_type": "code",
   "execution_count": 2,
   "metadata": {},
   "outputs": [],
   "source": [
    "from model import *"
   ]
  },
  {
   "cell_type": "code",
   "execution_count": 3,
   "metadata": {},
   "outputs": [],
   "source": [
    "colors = [\n",
    "    # '#84C3B7',\n",
    "          '#FFFFFF', \n",
    "          '#E68B81', \n",
    "          ]\n",
    "color_map = LinearSegmentedColormap.from_list('custom_colormap', colors)"
   ]
  },
  {
   "cell_type": "code",
   "execution_count": 4,
   "metadata": {},
   "outputs": [],
   "source": [
    "def eval(clf, X, y_true, prefix='',labels=['Healthy Control','Lung Cancer'],plot = False):\n",
    "    y_proba = clf.predict_proba(X)\n",
    "    y_pred = np.asarray([np.argmax(row) for row in y_proba])\n",
    "    print(f'{prefix} :confusion_matrix: \\n', confusion_matrix(y_true, y_pred))\n",
    "    if y_proba.shape[1] == 2:\n",
    "        cm = confusion_matrix(y_true, y_pred)\n",
    "        tn, fp, fn, tp = cm[0][0],cm[0][1],cm[1][0],cm[1][1]\n",
    "        print(f'{prefix}: accuracy: ', (tp+tn)/(tp+tn+fp+fn))\n",
    "        print(f'{prefix}: precision: ', tp/(tp+fp))\n",
    "        print(f'{prefix}: recall: ', tp/(tp+fn))\n",
    "        print(f'{prefix}: roc: ', roc_auc_score(y_true, y_proba[:, 1], average='macro'))\n",
    "        print(f'{prefix}: f1:', f1_score(y_true, y_pred, average='weighted'))\n",
    "    else:\n",
    "        print(f'{prefix}: accuracy: ', accuracy_score(y_true, y_pred))\n",
    "        print(f'{prefix}: precision: ', precision_score(y_true, y_pred, average='weighted'))\n",
    "        print(f'{prefix}: recall: ', recall_score(y_true, y_pred, average='weighted'))\n",
    "        print(f'{prefix}: roc: ', roc_auc_score(y_true, y_proba, multi_class='ovr'))\n",
    "        print(f'{prefix}: f1:', f1_score(y_true, y_pred, average='weighted',))\n",
    "\n",
    "    if plot == True:\n",
    "        plt.figure(figsize=(8, 6))\n",
    "        heatmap = sns.heatmap(confusion_matrix(y_true, y_pred), annot=True, fmt=\"d\",cmap=color_map)\n",
    "\n",
    "        heatmap.set_xticklabels(labels)\n",
    "        heatmap.set_yticklabels(labels)\n",
    "        heatmap.set_ylabel('True label')\n",
    "        heatmap.set_xlabel('Predicted label')\n",
    "        heatmap.set_title('Confusion Matrix')\n",
    "\n",
    "        timestamp = datetime.now().strftime(\"%Y%m%d%H%M%S\")\n",
    "        filename = f\"{timestamp}_confusion_matrix_{prefix}.svg\"\n",
    "        plt.savefig(filename,format='svg')\n"
   ]
  },
  {
   "cell_type": "code",
   "execution_count": 16,
   "metadata": {},
   "outputs": [],
   "source": [
    "data = pd.read_csv('data.csv',index_col=0)\n",
    "X, y = data.iloc[:,:550], data.iloc[:,-1].to_numpy()"
   ]
  },
  {
   "cell_type": "code",
   "execution_count": 8,
   "metadata": {},
   "outputs": [
    {
     "data": {
      "text/html": [
       "<div>\n",
       "<style scoped>\n",
       "    .dataframe tbody tr th:only-of-type {\n",
       "        vertical-align: middle;\n",
       "    }\n",
       "\n",
       "    .dataframe tbody tr th {\n",
       "        vertical-align: top;\n",
       "    }\n",
       "\n",
       "    .dataframe thead th {\n",
       "        text-align: right;\n",
       "    }\n",
       "</style>\n",
       "<table border=\"1\" class=\"dataframe\">\n",
       "  <thead>\n",
       "    <tr style=\"text-align: right;\">\n",
       "      <th></th>\n",
       "      <th>1</th>\n",
       "      <th>2</th>\n",
       "      <th>3</th>\n",
       "      <th>4</th>\n",
       "      <th>5</th>\n",
       "      <th>6</th>\n",
       "      <th>7</th>\n",
       "      <th>8</th>\n",
       "      <th>9</th>\n",
       "      <th>10</th>\n",
       "      <th>...</th>\n",
       "      <th>541</th>\n",
       "      <th>542</th>\n",
       "      <th>543</th>\n",
       "      <th>544</th>\n",
       "      <th>545</th>\n",
       "      <th>546</th>\n",
       "      <th>547</th>\n",
       "      <th>548</th>\n",
       "      <th>549</th>\n",
       "      <th>550</th>\n",
       "    </tr>\n",
       "  </thead>\n",
       "  <tbody>\n",
       "    <tr>\n",
       "      <th>195</th>\n",
       "      <td>0.001015</td>\n",
       "      <td>0.000945</td>\n",
       "      <td>0.000871</td>\n",
       "      <td>0.000805</td>\n",
       "      <td>0.000735</td>\n",
       "      <td>0.000690</td>\n",
       "      <td>0.000609</td>\n",
       "      <td>0.000561</td>\n",
       "      <td>0.000487</td>\n",
       "      <td>0.000441</td>\n",
       "      <td>...</td>\n",
       "      <td>0.000435</td>\n",
       "      <td>0.000456</td>\n",
       "      <td>0.000475</td>\n",
       "      <td>0.000496</td>\n",
       "      <td>0.000524</td>\n",
       "      <td>0.000549</td>\n",
       "      <td>0.000565</td>\n",
       "      <td>0.000585</td>\n",
       "      <td>0.000618</td>\n",
       "      <td>0.000647</td>\n",
       "    </tr>\n",
       "    <tr>\n",
       "      <th>18</th>\n",
       "      <td>0.001029</td>\n",
       "      <td>0.000903</td>\n",
       "      <td>0.000856</td>\n",
       "      <td>0.000725</td>\n",
       "      <td>0.000774</td>\n",
       "      <td>0.000699</td>\n",
       "      <td>0.000659</td>\n",
       "      <td>0.000512</td>\n",
       "      <td>0.000491</td>\n",
       "      <td>0.000450</td>\n",
       "      <td>...</td>\n",
       "      <td>0.000371</td>\n",
       "      <td>0.000367</td>\n",
       "      <td>0.000397</td>\n",
       "      <td>0.000401</td>\n",
       "      <td>0.000442</td>\n",
       "      <td>0.000458</td>\n",
       "      <td>0.000458</td>\n",
       "      <td>0.000506</td>\n",
       "      <td>0.000502</td>\n",
       "      <td>0.000547</td>\n",
       "    </tr>\n",
       "    <tr>\n",
       "      <th>93</th>\n",
       "      <td>0.001050</td>\n",
       "      <td>0.000975</td>\n",
       "      <td>0.000898</td>\n",
       "      <td>0.000829</td>\n",
       "      <td>0.000747</td>\n",
       "      <td>0.000676</td>\n",
       "      <td>0.000618</td>\n",
       "      <td>0.000546</td>\n",
       "      <td>0.000472</td>\n",
       "      <td>0.000421</td>\n",
       "      <td>...</td>\n",
       "      <td>0.000433</td>\n",
       "      <td>0.000448</td>\n",
       "      <td>0.000475</td>\n",
       "      <td>0.000497</td>\n",
       "      <td>0.000527</td>\n",
       "      <td>0.000542</td>\n",
       "      <td>0.000570</td>\n",
       "      <td>0.000588</td>\n",
       "      <td>0.000626</td>\n",
       "      <td>0.000647</td>\n",
       "    </tr>\n",
       "    <tr>\n",
       "      <th>67</th>\n",
       "      <td>0.000992</td>\n",
       "      <td>0.000925</td>\n",
       "      <td>0.000864</td>\n",
       "      <td>0.000798</td>\n",
       "      <td>0.000735</td>\n",
       "      <td>0.000677</td>\n",
       "      <td>0.000595</td>\n",
       "      <td>0.000552</td>\n",
       "      <td>0.000483</td>\n",
       "      <td>0.000428</td>\n",
       "      <td>...</td>\n",
       "      <td>0.000486</td>\n",
       "      <td>0.000507</td>\n",
       "      <td>0.000527</td>\n",
       "      <td>0.000552</td>\n",
       "      <td>0.000577</td>\n",
       "      <td>0.000599</td>\n",
       "      <td>0.000617</td>\n",
       "      <td>0.000650</td>\n",
       "      <td>0.000686</td>\n",
       "      <td>0.000711</td>\n",
       "    </tr>\n",
       "    <tr>\n",
       "      <th>45</th>\n",
       "      <td>0.000975</td>\n",
       "      <td>0.000925</td>\n",
       "      <td>0.000823</td>\n",
       "      <td>0.000776</td>\n",
       "      <td>0.000690</td>\n",
       "      <td>0.000605</td>\n",
       "      <td>0.000532</td>\n",
       "      <td>0.000489</td>\n",
       "      <td>0.000411</td>\n",
       "      <td>0.000388</td>\n",
       "      <td>...</td>\n",
       "      <td>0.000384</td>\n",
       "      <td>0.000414</td>\n",
       "      <td>0.000432</td>\n",
       "      <td>0.000446</td>\n",
       "      <td>0.000468</td>\n",
       "      <td>0.000486</td>\n",
       "      <td>0.000518</td>\n",
       "      <td>0.000534</td>\n",
       "      <td>0.000572</td>\n",
       "      <td>0.000584</td>\n",
       "    </tr>\n",
       "  </tbody>\n",
       "</table>\n",
       "<p>5 rows × 550 columns</p>\n",
       "</div>"
      ],
      "text/plain": [
       "            1         2         3         4         5         6         7  \\\n",
       "195  0.001015  0.000945  0.000871  0.000805  0.000735  0.000690  0.000609   \n",
       "18   0.001029  0.000903  0.000856  0.000725  0.000774  0.000699  0.000659   \n",
       "93   0.001050  0.000975  0.000898  0.000829  0.000747  0.000676  0.000618   \n",
       "67   0.000992  0.000925  0.000864  0.000798  0.000735  0.000677  0.000595   \n",
       "45   0.000975  0.000925  0.000823  0.000776  0.000690  0.000605  0.000532   \n",
       "\n",
       "            8         9        10  ...       541       542       543  \\\n",
       "195  0.000561  0.000487  0.000441  ...  0.000435  0.000456  0.000475   \n",
       "18   0.000512  0.000491  0.000450  ...  0.000371  0.000367  0.000397   \n",
       "93   0.000546  0.000472  0.000421  ...  0.000433  0.000448  0.000475   \n",
       "67   0.000552  0.000483  0.000428  ...  0.000486  0.000507  0.000527   \n",
       "45   0.000489  0.000411  0.000388  ...  0.000384  0.000414  0.000432   \n",
       "\n",
       "          544       545       546       547       548       549       550  \n",
       "195  0.000496  0.000524  0.000549  0.000565  0.000585  0.000618  0.000647  \n",
       "18   0.000401  0.000442  0.000458  0.000458  0.000506  0.000502  0.000547  \n",
       "93   0.000497  0.000527  0.000542  0.000570  0.000588  0.000626  0.000647  \n",
       "67   0.000552  0.000577  0.000599  0.000617  0.000650  0.000686  0.000711  \n",
       "45   0.000446  0.000468  0.000486  0.000518  0.000534  0.000572  0.000584  \n",
       "\n",
       "[5 rows x 550 columns]"
      ]
     },
     "execution_count": 8,
     "metadata": {},
     "output_type": "execute_result"
    }
   ],
   "source": [
    "X.head()"
   ]
  },
  {
   "cell_type": "code",
   "execution_count": 10,
   "metadata": {},
   "outputs": [
    {
     "data": {
      "text/plain": [
       "array([1, 1, 0, 1, 1])"
      ]
     },
     "execution_count": 10,
     "metadata": {},
     "output_type": "execute_result"
    }
   ],
   "source": [
    "y[:5]"
   ]
  },
  {
   "cell_type": "code",
   "execution_count": 23,
   "metadata": {},
   "outputs": [],
   "source": [
    "clfs = [\n",
    "        RandomForestClassifier(n_estimators=65, n_jobs=-1, criterion='gini',random_state=99),\n",
    "        RandomForestClassifier(n_estimators=65, n_jobs=-1, criterion='entropy', random_state=666),\n",
    "        ExtraTreesClassifier(n_estimators=65, n_jobs=-1, criterion='gini', random_state=42),\n",
    "        ExtraTreesClassifier(n_estimators=65, n_jobs=-1, criterion='entropy', random_state=666),\n",
    "        KNeighborsClassifier(n_neighbors=3, n_jobs=-1,weights='uniform'),\n",
    "        KNeighborsClassifier(n_neighbors=3, n_jobs=-1, weights='distance'),\n",
    "        xgb.XGBClassifier(n_estimators=65, learning_rate=0.1, max_depth=3),\n",
    "    ]\n",
    "msclf = MultiStack(clfs, LogisticRegression(), nStack=2, cv=5,nRepeat=3)\n"
   ]
  },
  {
   "cell_type": "code",
   "execution_count": 24,
   "metadata": {},
   "outputs": [
    {
     "name": "stdout",
     "output_type": "stream",
     "text": [
      "X.shape (156, 550)\n",
      "y_m.shape (156, 7)\n",
      "X.shape (156, 557)\n",
      "y_m.shape (156, 7)\n",
      "X.shape (156, 564)\n",
      "y_m.shape (156, 7)\n"
     ]
    }
   ],
   "source": [
    "X_train, X_test, y_train, y_test = train_test_split(X, y, test_size=0.3, random_state=42,stratify=y)\n",
    "msclf.fit(X_train, y_train)\n"
   ]
  },
  {
   "cell_type": "code",
   "execution_count": 25,
   "metadata": {},
   "outputs": [
    {
     "name": "stdout",
     "output_type": "stream",
     "text": [
      "Test :confusion_matrix: \n",
      " [[13  4]\n",
      " [ 0 50]]\n",
      "Test: accuracy:  0.9402985074626866\n",
      "Test: precision:  0.9259259259259259\n",
      "Test: recall:  1.0\n",
      "Test: roc:  0.9529411764705882\n",
      "Test: f1: 0.9374665135859165\n"
     ]
    }
   ],
   "source": [
    "eval(msclf, X_test, y_test, prefix='Test',labels=['Healthy Control','Lung Cancer'],plot=False)"
   ]
  }
 ],
 "metadata": {
  "kernelspec": {
   "display_name": "ag",
   "language": "python",
   "name": "python3"
  },
  "language_info": {
   "codemirror_mode": {
    "name": "ipython",
    "version": 3
   },
   "file_extension": ".py",
   "mimetype": "text/x-python",
   "name": "python",
   "nbconvert_exporter": "python",
   "pygments_lexer": "ipython3",
   "version": "3.9.18"
  }
 },
 "nbformat": 4,
 "nbformat_minor": 2
}
